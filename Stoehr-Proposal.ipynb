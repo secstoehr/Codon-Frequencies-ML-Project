{
 "cells": [
  {
   "cell_type": "markdown",
   "metadata": {},
   "source": [
    "$\\newcommand{\\xv}{\\mathbf{x}}\n",
    "\\newcommand{\\Xv}{\\mathbf{X}}\n",
    "\\newcommand{\\yv}{\\mathbf{y}}\n",
    "\\newcommand{\\zv}{\\mathbf{z}}\n",
    "\\newcommand{\\av}{\\mathbf{a}}\n",
    "\\newcommand{\\Wv}{\\mathbf{W}}\n",
    "\\newcommand{\\wv}{\\mathbf{w}}\n",
    "\\newcommand{\\tv}{\\mathbf{t}}\n",
    "\\newcommand{\\Tv}{\\mathbf{T}}\n",
    "\\newcommand{\\muv}{\\boldsymbol{\\mu}}\n",
    "\\newcommand{\\sigmav}{\\boldsymbol{\\sigma}}\n",
    "\\newcommand{\\phiv}{\\boldsymbol{\\phi}}\n",
    "\\newcommand{\\Phiv}{\\boldsymbol{\\Phi}}\n",
    "\\newcommand{\\Sigmav}{\\boldsymbol{\\Sigma}}\n",
    "\\newcommand{\\Lambdav}{\\boldsymbol{\\Lambda}}\n",
    "\\newcommand{\\half}{\\frac{1}{2}}\n",
    "\\newcommand{\\argmax}[1]{\\underset{#1}{\\operatorname{argmax}}}\n",
    "\\newcommand{\\argmin}[1]{\\underset{#1}{\\operatorname{argmin}}}$"
   ]
  },
  {
   "cell_type": "markdown",
   "metadata": {},
   "source": [
    "# Project Proposal for CS445"
   ]
  },
  {
   "cell_type": "markdown",
   "metadata": {},
   "source": [
    "Shannon Stoehr"
   ]
  },
  {
   "cell_type": "markdown",
   "metadata": {},
   "source": [
    "## Introduction"
   ]
  },
  {
   "cell_type": "markdown",
   "metadata": {},
   "source": [
    "The UCI Machine Learning Repository contains the Codon Usage Data Set which lists the codon frequencies for 13,000 species, including various viruses, bacteria, and plasmids, which can all be involved in illness. I would like to write a neural network that can analyze a new, unknown species' codon frequency and be able to predict what Kingdom it belongs to and what type of DNA it is. Is there a particular codon that is statistically significant in determining a species' classification and/or DNA type?"
   ]
  },
  {
   "cell_type": "markdown",
   "metadata": {},
   "source": [
    "## Methods"
   ]
  },
  {
   "cell_type": "markdown",
   "metadata": {},
   "source": [
    "I would like to work with this data set because my original academic background is in biology, and there are so many aspects of genetics that could benefit from machine learning. For instance, if a new virus emerges somewhere in the world (such as COVID did in 2020), machine learning would be useful in identifying similar viruses that may already have effective treatments and possibly helping to more quickly pinpoint the origins of the new virus. If an effective vaccine for a similar virus is known then it can be modified in order to help protect patients from the new virus. This type of technology could be helpful for future medical treatments.\n",
    "\n",
    "I plan to complete this project alone. I will be writing a neural network classifier that works with multiple target labels. Assignment 4 will likely be a big help for this. The data for this project can be found at https://archive.ics.uci.edu/ml/datasets/Codon+usage. I will test the data for any statistical significance using an ANOVA analysis."
   ]
  },
  {
   "cell_type": "markdown",
   "metadata": {},
   "source": [
    "## Possible Results"
   ]
  },
  {
   "cell_type": "markdown",
   "metadata": {},
   "source": [
    "The results may show that there is a particular codon that contributes more to species classification than others, and that codon may be different for different kingdoms or DNA types. There are 64 combinations of codons (4 nucleotide options, each codon is 3 nucleotides long, 4 * 4 * 4 = 64). Each codon corresponds to one amino acid, and there are some cases where multiple codons correspond to the same amino acid. Amino acid needs may be different between kingdoms and DNA types, so it will be interesting to see if there is any statistical significance behind these differences. I plan to complete initial research to see if this may be the case as well."
   ]
  },
  {
   "cell_type": "markdown",
   "metadata": {},
   "source": [
    "## Timeline"
   ]
  },
  {
   "cell_type": "markdown",
   "metadata": {},
   "source": [
    "* 4/14/22: have baseline neural net written and working\n",
    "* 4/21/22: test multiple hidden layer structures, have code to run automatically\n",
    "* 4/28/22: complete statistical analysis\n",
    "* 5/5/22: polish and submit"
   ]
  }
 ],
 "metadata": {
  "kernelspec": {
   "display_name": "Python 3 (ipykernel)",
   "language": "python",
   "name": "python3"
  },
  "language_info": {
   "codemirror_mode": {
    "name": "ipython",
    "version": 3
   },
   "file_extension": ".py",
   "mimetype": "text/x-python",
   "name": "python",
   "nbconvert_exporter": "python",
   "pygments_lexer": "ipython3",
   "version": "3.9.7"
  },
  "toc": {
   "base_numbering": 1,
   "nav_menu": {},
   "number_sections": true,
   "sideBar": true,
   "skip_h1_title": false,
   "title_cell": "Table of Contents",
   "title_sidebar": "Contents",
   "toc_cell": false,
   "toc_position": {},
   "toc_section_display": true,
   "toc_window_display": false
  }
 },
 "nbformat": 4,
 "nbformat_minor": 1
}
